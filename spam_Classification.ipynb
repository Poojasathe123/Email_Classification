{
 "cells": [
  {
   "cell_type": "markdown",
   "id": "120e940d",
   "metadata": {},
   "source": [
    "## SMS Spam Detection Analysis"
   ]
  },
  {
   "cell_type": "markdown",
   "id": "da21e010",
   "metadata": {},
   "source": [
    "- SMS Spam Detection Analysis is a classification project that comes under Natural Language Processing. \n",
    "The objective of the project is to analyze the text messages and classify whether the message is ham (legitimate) or spam."
   ]
  },
  {
   "cell_type": "markdown",
   "id": "02ec1549",
   "metadata": {},
   "source": [
    "- In this project we are going to analyze and classify the next messages from the dataset using a classifying model with pipelines."
   ]
  },
  {
   "cell_type": "markdown",
   "id": "7ceded41",
   "metadata": {},
   "source": [
    "## Import Modules"
   ]
  },
  {
   "cell_type": "code",
   "execution_count": 1,
   "id": "41b27940",
   "metadata": {},
   "outputs": [],
   "source": [
    "import pandas as pd\n",
    "import numpy as np\n",
    "import nltk\n",
    "import re\n",
    "from nltk.corpus import stopwords\n",
    "import matplotlib.pyplot as plt"
   ]
  },
  {
   "cell_type": "markdown",
   "id": "51231314",
   "metadata": {},
   "source": [
    "- pandas :- used to perform data manipulation and analysis\n",
    "\n",
    "- numpy:- used to perform a wide variety of mathematical operatio.ns on arrays\n",
    "\n",
    "- nltk:- a natural language processing toolkit module associated in anaconda\n",
    "     \n",
    "- re:- used as a regular expression to find particular patterns and process it\n",
    "     \n",
    "- stopwords:- used to remove stop words from the text data"
   ]
  },
  {
   "cell_type": "markdown",
   "id": "cf7e2d19",
   "metadata": {},
   "source": [
    "## Loading the dataset"
   ]
  },
  {
   "cell_type": "code",
   "execution_count": 2,
   "id": "1a5347eb",
   "metadata": {},
   "outputs": [
    {
     "data": {
      "text/html": [
       "<div>\n",
       "<style scoped>\n",
       "    .dataframe tbody tr th:only-of-type {\n",
       "        vertical-align: middle;\n",
       "    }\n",
       "\n",
       "    .dataframe tbody tr th {\n",
       "        vertical-align: top;\n",
       "    }\n",
       "\n",
       "    .dataframe thead th {\n",
       "        text-align: right;\n",
       "    }\n",
       "</style>\n",
       "<table border=\"1\" class=\"dataframe\">\n",
       "  <thead>\n",
       "    <tr style=\"text-align: right;\">\n",
       "      <th></th>\n",
       "      <th>Unnamed: 0</th>\n",
       "      <th>label</th>\n",
       "      <th>text</th>\n",
       "      <th>label_num</th>\n",
       "    </tr>\n",
       "  </thead>\n",
       "  <tbody>\n",
       "    <tr>\n",
       "      <th>0</th>\n",
       "      <td>605</td>\n",
       "      <td>ham</td>\n",
       "      <td>Subject: enron methanol ; meter # : 988291\\r\\n...</td>\n",
       "      <td>0</td>\n",
       "    </tr>\n",
       "    <tr>\n",
       "      <th>1</th>\n",
       "      <td>2349</td>\n",
       "      <td>ham</td>\n",
       "      <td>Subject: hpl nom for january 9 , 2001\\r\\n( see...</td>\n",
       "      <td>0</td>\n",
       "    </tr>\n",
       "    <tr>\n",
       "      <th>2</th>\n",
       "      <td>3624</td>\n",
       "      <td>ham</td>\n",
       "      <td>Subject: neon retreat\\r\\nho ho ho , we ' re ar...</td>\n",
       "      <td>0</td>\n",
       "    </tr>\n",
       "    <tr>\n",
       "      <th>3</th>\n",
       "      <td>4685</td>\n",
       "      <td>spam</td>\n",
       "      <td>Subject: photoshop , windows , office . cheap ...</td>\n",
       "      <td>1</td>\n",
       "    </tr>\n",
       "    <tr>\n",
       "      <th>4</th>\n",
       "      <td>2030</td>\n",
       "      <td>ham</td>\n",
       "      <td>Subject: re : indian springs\\r\\nthis deal is t...</td>\n",
       "      <td>0</td>\n",
       "    </tr>\n",
       "  </tbody>\n",
       "</table>\n",
       "</div>"
      ],
      "text/plain": [
       "   Unnamed: 0 label                                               text  \\\n",
       "0         605   ham  Subject: enron methanol ; meter # : 988291\\r\\n...   \n",
       "1        2349   ham  Subject: hpl nom for january 9 , 2001\\r\\n( see...   \n",
       "2        3624   ham  Subject: neon retreat\\r\\nho ho ho , we ' re ar...   \n",
       "3        4685  spam  Subject: photoshop , windows , office . cheap ...   \n",
       "4        2030   ham  Subject: re : indian springs\\r\\nthis deal is t...   \n",
       "\n",
       "   label_num  \n",
       "0          0  \n",
       "1          0  \n",
       "2          0  \n",
       "3          1  \n",
       "4          0  "
      ]
     },
     "execution_count": 2,
     "metadata": {},
     "output_type": "execute_result"
    }
   ],
   "source": [
    "df = pd.read_csv('spam_ham_dataset.csv')\n",
    "df.head()"
   ]
  },
  {
   "cell_type": "markdown",
   "id": "adf8c1f4",
   "metadata": {},
   "source": [
    "- Relevant columns are label and text\n",
    "- Other columns are unnecessary for processing"
   ]
  },
  {
   "cell_type": "code",
   "execution_count": 3,
   "id": "4193e853",
   "metadata": {},
   "outputs": [],
   "source": [
    "# get necessary columns for processing\n",
    "df = df[['label','text']]"
   ]
  },
  {
   "cell_type": "code",
   "execution_count": 4,
   "id": "3007835a",
   "metadata": {},
   "outputs": [
    {
     "data": {
      "text/html": [
       "<div>\n",
       "<style scoped>\n",
       "    .dataframe tbody tr th:only-of-type {\n",
       "        vertical-align: middle;\n",
       "    }\n",
       "\n",
       "    .dataframe tbody tr th {\n",
       "        vertical-align: top;\n",
       "    }\n",
       "\n",
       "    .dataframe thead th {\n",
       "        text-align: right;\n",
       "    }\n",
       "</style>\n",
       "<table border=\"1\" class=\"dataframe\">\n",
       "  <thead>\n",
       "    <tr style=\"text-align: right;\">\n",
       "      <th></th>\n",
       "      <th>label</th>\n",
       "      <th>text</th>\n",
       "    </tr>\n",
       "  </thead>\n",
       "  <tbody>\n",
       "    <tr>\n",
       "      <th>0</th>\n",
       "      <td>ham</td>\n",
       "      <td>Subject: enron methanol ; meter # : 988291\\r\\n...</td>\n",
       "    </tr>\n",
       "    <tr>\n",
       "      <th>1</th>\n",
       "      <td>ham</td>\n",
       "      <td>Subject: hpl nom for january 9 , 2001\\r\\n( see...</td>\n",
       "    </tr>\n",
       "    <tr>\n",
       "      <th>2</th>\n",
       "      <td>ham</td>\n",
       "      <td>Subject: neon retreat\\r\\nho ho ho , we ' re ar...</td>\n",
       "    </tr>\n",
       "    <tr>\n",
       "      <th>3</th>\n",
       "      <td>spam</td>\n",
       "      <td>Subject: photoshop , windows , office . cheap ...</td>\n",
       "    </tr>\n",
       "    <tr>\n",
       "      <th>4</th>\n",
       "      <td>ham</td>\n",
       "      <td>Subject: re : indian springs\\r\\nthis deal is t...</td>\n",
       "    </tr>\n",
       "  </tbody>\n",
       "</table>\n",
       "</div>"
      ],
      "text/plain": [
       "  label                                               text\n",
       "0   ham  Subject: enron methanol ; meter # : 988291\\r\\n...\n",
       "1   ham  Subject: hpl nom for january 9 , 2001\\r\\n( see...\n",
       "2   ham  Subject: neon retreat\\r\\nho ho ho , we ' re ar...\n",
       "3  spam  Subject: photoshop , windows , office . cheap ...\n",
       "4   ham  Subject: re : indian springs\\r\\nthis deal is t..."
      ]
     },
     "execution_count": 4,
     "metadata": {},
     "output_type": "execute_result"
    }
   ],
   "source": [
    "df.head()"
   ]
  },
  {
   "cell_type": "markdown",
   "id": "e228660e",
   "metadata": {},
   "source": [
    "## Preprocessing the dataset"
   ]
  },
  {
   "cell_type": "code",
   "execution_count": 5,
   "id": "bbe20c6c",
   "metadata": {},
   "outputs": [
    {
     "data": {
      "text/plain": [
       "label    0\n",
       "text     0\n",
       "dtype: int64"
      ]
     },
     "execution_count": 5,
     "metadata": {},
     "output_type": "execute_result"
    }
   ],
   "source": [
    "# Check for null values\n",
    "df.isnull().sum()"
   ]
  },
  {
   "cell_type": "markdown",
   "id": "a97bb089",
   "metadata": {},
   "source": [
    "- Checks and shows the no. of null values in the two columns.\n",
    "- In case of null values you must filter it for easier processing."
   ]
  },
  {
   "cell_type": "code",
   "execution_count": 6,
   "id": "601ce136",
   "metadata": {},
   "outputs": [
    {
     "data": {
      "image/png": "[encoded data removed]",
      "text/plain": [
       "<Figure size 432x288 with 1 Axes>"
      ]
     },
     "metadata": {},
     "output_type": "display_data"
    }
   ],
   "source": [
    "plt.pie(df['label'].value_counts(), labels=['ham','spam'],autopct='%0.2f')\n",
    "plt.show()"
   ]
  },
  {
   "cell_type": "code",
   "execution_count": 7,
   "id": "d402737e",
   "metadata": {},
   "outputs": [],
   "source": [
    "STOPWORDS = set(stopwords.words('english'))\n",
    "\n",
    "def clean_text(text):\n",
    "    # convert to lowercase\n",
    "    text = text.lower()\n",
    "    # remove special characters\n",
    "    text = re.sub(r'[^0-9a-zA-Z]', ' ', text)\n",
    "    # remove extra spaces\n",
    "    text = re.sub(r'\\s+', ' ', text)\n",
    "    # remove stopwords\n",
    "    text = \" \".join(word for word in text.split() if word not in STOPWORDS)\n",
    "    return text"
   ]
  },
  {
   "cell_type": "markdown",
   "id": "08f35ccd",
   "metadata": {},
   "source": [
    "- Defined to call and clean the text to avoid repeating line by line if further cleaning is needed\n",
    "- Set(stopwords.words('...')) : used to load the unique list of common stopwords from the specified language as tokens\n",
    "- Stop words are not meaningful words, deleting those words will not affect the result\n",
    "- Text are converted into lower case to avoid mismatching\n",
    "- Special characters and extra spaces are removed\n",
    "- Stopwords removed from text by splitting the original text and comparing with the STOPWORDS list"
   ]
  },
  {
   "cell_type": "code",
   "execution_count": 8,
   "id": "27469266",
   "metadata": {},
   "outputs": [
    {
     "data": {
      "text/html": [
       "<div>\n",
       "<style scoped>\n",
       "    .dataframe tbody tr th:only-of-type {\n",
       "        vertical-align: middle;\n",
       "    }\n",
       "\n",
       "    .dataframe tbody tr th {\n",
       "        vertical-align: top;\n",
       "    }\n",
       "\n",
       "    .dataframe thead th {\n",
       "        text-align: right;\n",
       "    }\n",
       "</style>\n",
       "<table border=\"1\" class=\"dataframe\">\n",
       "  <thead>\n",
       "    <tr style=\"text-align: right;\">\n",
       "      <th></th>\n",
       "      <th>label</th>\n",
       "      <th>text</th>\n",
       "      <th>clean_text</th>\n",
       "    </tr>\n",
       "  </thead>\n",
       "  <tbody>\n",
       "    <tr>\n",
       "      <th>0</th>\n",
       "      <td>ham</td>\n",
       "      <td>Subject: enron methanol ; meter # : 988291\\r\\n...</td>\n",
       "      <td>subject enron methanol meter 988291 follow not...</td>\n",
       "    </tr>\n",
       "    <tr>\n",
       "      <th>1</th>\n",
       "      <td>ham</td>\n",
       "      <td>Subject: hpl nom for january 9 , 2001\\r\\n( see...</td>\n",
       "      <td>subject hpl nom january 9 2001 see attached fi...</td>\n",
       "    </tr>\n",
       "    <tr>\n",
       "      <th>2</th>\n",
       "      <td>ham</td>\n",
       "      <td>Subject: neon retreat\\r\\nho ho ho , we ' re ar...</td>\n",
       "      <td>subject neon retreat ho ho ho around wonderful...</td>\n",
       "    </tr>\n",
       "    <tr>\n",
       "      <th>3</th>\n",
       "      <td>spam</td>\n",
       "      <td>Subject: photoshop , windows , office . cheap ...</td>\n",
       "      <td>subject photoshop windows office cheap main tr...</td>\n",
       "    </tr>\n",
       "    <tr>\n",
       "      <th>4</th>\n",
       "      <td>ham</td>\n",
       "      <td>Subject: re : indian springs\\r\\nthis deal is t...</td>\n",
       "      <td>subject indian springs deal book teco pvr reve...</td>\n",
       "    </tr>\n",
       "  </tbody>\n",
       "</table>\n",
       "</div>"
      ],
      "text/plain": [
       "  label                                               text  \\\n",
       "0   ham  Subject: enron methanol ; meter # : 988291\\r\\n...   \n",
       "1   ham  Subject: hpl nom for january 9 , 2001\\r\\n( see...   \n",
       "2   ham  Subject: neon retreat\\r\\nho ho ho , we ' re ar...   \n",
       "3  spam  Subject: photoshop , windows , office . cheap ...   \n",
       "4   ham  Subject: re : indian springs\\r\\nthis deal is t...   \n",
       "\n",
       "                                          clean_text  \n",
       "0  subject enron methanol meter 988291 follow not...  \n",
       "1  subject hpl nom january 9 2001 see attached fi...  \n",
       "2  subject neon retreat ho ho ho around wonderful...  \n",
       "3  subject photoshop windows office cheap main tr...  \n",
       "4  subject indian springs deal book teco pvr reve...  "
      ]
     },
     "execution_count": 8,
     "metadata": {},
     "output_type": "execute_result"
    }
   ],
   "source": [
    "# clean the messages\n",
    "df['clean_text'] = df['text'].apply(clean_text)\n",
    "df.head()"
   ]
  },
  {
   "cell_type": "markdown",
   "id": "76df4d4f",
   "metadata": {},
   "source": [
    "- New column created to visualize the resuts from the text cleaning"
   ]
  },
  {
   "cell_type": "markdown",
   "id": "ae70a478",
   "metadata": {},
   "source": [
    "## Input split"
   ]
  },
  {
   "cell_type": "code",
   "execution_count": 9,
   "id": "b937373e",
   "metadata": {},
   "outputs": [],
   "source": [
    "# Let us split the data for training\n",
    "X = df['clean_text']\n",
    "y = df['label']"
   ]
  },
  {
   "cell_type": "markdown",
   "id": "d8ba5738",
   "metadata": {},
   "source": [
    "- X : input attribute\n",
    "- y : output attribute"
   ]
  },
  {
   "cell_type": "markdown",
   "id": "d4a7e156",
   "metadata": {},
   "source": [
    "## Model Training"
   ]
  },
  {
   "cell_type": "code",
   "execution_count": 10,
   "id": "e46f7ef4",
   "metadata": {},
   "outputs": [],
   "source": [
    "from sklearn.pipeline import Pipeline\n",
    "from sklearn.model_selection import train_test_split, cross_val_score\n",
    "from sklearn.metrics import classification_report\n",
    "from sklearn.feature_extraction.text import CountVectorizer, TfidfVectorizer, TfidfTransformer"
   ]
  },
  {
   "cell_type": "markdown",
   "id": "84f82829",
   "metadata": {},
   "source": [
    "- Pipeline :- used for a linear sequence of data transforms to be chained together culminating in a modeling process that can be evaluated.\n",
    "- train_test_split() :- used to estimate the performance of machine learning algorithms when they are used to make predictions on data not used to train the model.\n",
    "- cross_val_score() :- used to split the data into (X) equal files, trains the data in (y) combinations and returns the (cv) calculated accuracy of the given model.\n",
    "- CountVectorizer :- used to transform a given text into a vector on the basis of the frequency (count) of each word that occures in the entire text.\n",
    "- TfidVectorizer :- used to perform bothe word frequency of the next.\n",
    "- TfidfTransformer :- used to transform text into a meaningful representation of numbers which is used to fit machine algorithm for prediction."
   ]
  },
  {
   "cell_type": "code",
   "execution_count": 11,
   "id": "e9387007",
   "metadata": {},
   "outputs": [],
   "source": [
    "def classify(model, X, y):\n",
    "    # trian test split\n",
    "    x_train, x_test, y_train, y_test = train_test_split(X, y, test_size=0.25, random_state=42, shuffle=True, stratify=y)\n",
    "    # Model training\n",
    "    pipeline_model = Pipeline([('vect', CountVectorizer()),\n",
    "                              ('tfidf', TfidfTransformer()),\n",
    "                              ('clf', model)])\n",
    "    pipeline_model.fit(x_train, y_train)\n",
    "    \n",
    "    print('Accuracy:', pipeline_model.score(x_test,y_test)*100)\n",
    "    \n",
    "    y_pred = pipeline_model.predict(x_test)\n",
    "    print(classification_report(y_test,y_pred))"
   ]
  },
  {
   "cell_type": "code",
   "execution_count": 12,
   "id": "ec4cab3d",
   "metadata": {},
   "outputs": [
    {
     "name": "stdout",
     "output_type": "stream",
     "text": [
      "Accuracy: 98.83990719257541\n",
      "              precision    recall  f1-score   support\n",
      "\n",
      "         ham       1.00      0.99      0.99       918\n",
      "        spam       0.97      0.99      0.98       375\n",
      "\n",
      "    accuracy                           0.99      1293\n",
      "   macro avg       0.98      0.99      0.99      1293\n",
      "weighted avg       0.99      0.99      0.99      1293\n",
      "\n"
     ]
    }
   ],
   "source": [
    "from sklearn.linear_model import LogisticRegression\n",
    "model = LogisticRegression()\n",
    "classify(model, X, y)"
   ]
  },
  {
   "cell_type": "markdown",
   "id": "8ddbfbcf",
   "metadata": {},
   "source": [
    "- Results using the Logistic Regression Model"
   ]
  },
  {
   "cell_type": "code",
   "execution_count": 13,
   "id": "ea92acb0",
   "metadata": {},
   "outputs": [
    {
     "name": "stdout",
     "output_type": "stream",
     "text": [
      "Accuracy: 91.80201082753287\n",
      "              precision    recall  f1-score   support\n",
      "\n",
      "         ham       0.90      1.00      0.95       918\n",
      "        spam       1.00      0.72      0.84       375\n",
      "\n",
      "    accuracy                           0.92      1293\n",
      "   macro avg       0.95      0.86      0.89      1293\n",
      "weighted avg       0.93      0.92      0.91      1293\n",
      "\n"
     ]
    }
   ],
   "source": [
    "from sklearn.naive_bayes import MultinomialNB\n",
    "model = MultinomialNB()\n",
    "classify(model, X, y)"
   ]
  },
  {
   "cell_type": "markdown",
   "id": "7a94170a",
   "metadata": {},
   "source": [
    "- The accuracy got decreased a little comparing logistic regression model"
   ]
  },
  {
   "cell_type": "code",
   "execution_count": 14,
   "id": "8f07b64c",
   "metadata": {},
   "outputs": [
    {
     "name": "stdout",
     "output_type": "stream",
     "text": [
      "Accuracy: 98.68522815158546\n",
      "              precision    recall  f1-score   support\n",
      "\n",
      "         ham       1.00      0.98      0.99       918\n",
      "        spam       0.96      0.99      0.98       375\n",
      "\n",
      "    accuracy                           0.99      1293\n",
      "   macro avg       0.98      0.99      0.98      1293\n",
      "weighted avg       0.99      0.99      0.99      1293\n",
      "\n"
     ]
    }
   ],
   "source": [
    "from sklearn.svm import SVC\n",
    "model = SVC()\n",
    "classify(model, X, y)"
   ]
  },
  {
   "cell_type": "markdown",
   "id": "bcbd9325",
   "metadata": {},
   "source": [
    "- SVC model giving better results comparing to the above models"
   ]
  },
  {
   "cell_type": "code",
   "execution_count": 15,
   "id": "ae1fd993",
   "metadata": {},
   "outputs": [
    {
     "name": "stdout",
     "output_type": "stream",
     "text": [
      "Accuracy: 98.22119102861562\n",
      "              precision    recall  f1-score   support\n",
      "\n",
      "         ham       0.99      0.98      0.99       918\n",
      "        spam       0.96      0.98      0.97       375\n",
      "\n",
      "    accuracy                           0.98      1293\n",
      "   macro avg       0.97      0.98      0.98      1293\n",
      "weighted avg       0.98      0.98      0.98      1293\n",
      "\n"
     ]
    }
   ],
   "source": [
    "from sklearn.ensemble import RandomForestClassifier\n",
    "model = RandomForestClassifier()\n",
    "classify(model, X, y)"
   ]
  },
  {
   "cell_type": "markdown",
   "id": "1c008b0c",
   "metadata": {},
   "source": [
    "- Accuracy decreased a little comparing to SVC model"
   ]
  },
  {
   "cell_type": "markdown",
   "id": "cf8a9575",
   "metadata": {},
   "source": [
    "- LogisticRegression model giving better results comparing to the all models"
   ]
  }
 ],
 "metadata": {
  "kernelspec": {
   "display_name": "Python 3 (ipykernel)",
   "language": "python",
   "name": "python3"
  },
  "language_info": {
   "codemirror_mode": {
    "name": "ipython",
    "version": 3
   },
   "file_extension": ".py",
   "mimetype": "text/x-python",
   "name": "python",
   "nbconvert_exporter": "python",
   "pygments_lexer": "ipython3",
   "version": "3.10.2"
  }
 },
 "nbformat": 4,
 "nbformat_minor": 5
}
